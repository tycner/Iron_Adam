{
 "cells": [
  {
   "cell_type": "code",
   "execution_count": 1,
   "id": "f8dc10c1",
   "metadata": {},
   "outputs": [
    {
     "name": "stdout",
     "output_type": "stream",
     "text": [
      "[0, 2, 4, 6, 8, 10, 12, 14, 16, 18]\n",
      "[0, 2, 4, 6, 8, 10, 12, 14, 16, 18]\n",
      "[1, 2, 3, 4, 5, 6]\n",
      "[10, 11, 12, 13, 14, 15, 16, 17, 18, 19, 20]\n"
     ]
    }
   ],
   "source": [
    "# Creating lists with lists comprehensions. First the regular method with the for loop:\n",
    "\n",
    "my_list1 = []\n",
    "\n",
    "for item in range(10):\n",
    "    my_list1.append(item*2)\n",
    "\n",
    "print(my_list1)\n",
    "\n",
    "# Now the comprehension method:\n",
    "\n",
    "my_list2 = [item*2 for item in range(10)]\n",
    "print(my_list2)\n",
    "\n",
    "my_list3 = [item+1 for item in range(6)]\n",
    "print(my_list3)\n",
    "\n",
    "my_list4 = [x for x in range(10, 21)]\n",
    "print(my_list4)"
   ]
  },
  {
   "cell_type": "code",
   "execution_count": 17,
   "id": "fdb03439",
   "metadata": {},
   "outputs": [
    {
     "name": "stdout",
     "output_type": "stream",
     "text": [
      "one\n",
      "two\n",
      "three\n",
      "four\n",
      "one\n",
      "1\n",
      "two\n",
      "2\n",
      "three\n",
      "3\n"
     ]
    }
   ],
   "source": [
    "# Difference between the \"for in list\" and \"for in range\"\n",
    "          \n",
    "#You can iterate single list without range().\n",
    "\n",
    "myList = [\"one\", \"two\", \"three\", \"four\"]\n",
    "\n",
    "for value in myList:\n",
    "\n",
    "    print(value)\n",
    "    \n",
    "\n",
    "#By range(), you can access list/tuple values through index. For instance\n",
    "\n",
    "\n",
    "myListOne = [\"one\", \"two\", \"three\"]\n",
    "\n",
    "myListTwo = [1, 2, 3]\n",
    "\n",
    "for value in range(len(myListOne)):\n",
    "\n",
    "    print(myListOne[value])\n",
    "\n",
    "    print(myListTwo[value])\n",
    "    \n",
    "    \n",
    "\n",
    "\n",
    "\n"
   ]
  },
  {
   "cell_type": "code",
   "execution_count": null,
   "id": "096fa24d",
   "metadata": {},
   "outputs": [],
   "source": [
    "# Nina's solution for rock, paper, scissors:\n",
    "# https://github.com/Nina-Thiessen/IronNina/blob/main/Prework-Review/Lab_rock-paper-scissors.ipynb"
   ]
  },
  {
   "cell_type": "code",
   "execution_count": 20,
   "id": "f26f48f3",
   "metadata": {},
   "outputs": [],
   "source": [
    "# Three methods to format strings: https://realpython.com/python-f-strings/#option-1-formatting"
   ]
  },
  {
   "cell_type": "code",
   "execution_count": 33,
   "id": "1b49d3d4",
   "metadata": {},
   "outputs": [
    {
     "name": "stdout",
     "output_type": "stream",
     "text": [
      "[-45, -44, -43, -42, -41]\n",
      "{1: 10, 2: 20, 3: 30, 6: 8, 90: 7, 21: 4}\n",
      "[1, 2, 3, 4, 5, 6, 7, 8]\n"
     ]
    }
   ],
   "source": [
    "# Creating lists with apprehension\n",
    "\n",
    "another_list = [item - 50 for item in range(5, 10)]\n",
    "print(another_list)\n",
    "\n",
    "# Merging dictionaries\n",
    "\n",
    "dict1 = {1:10, 2:20, 3:30}\n",
    "dict2 = {6: 8, 90: 7, 21: 4}\n",
    "\n",
    "dict3 = dict1 | dict2\n",
    "print(dict3)\n",
    "\n",
    "# Merging lists\n",
    "\n",
    "lista1 = [1, 2, 3, 4]\n",
    "lista2 = [5, 6, 7, 8]\n",
    "\n",
    "lista4 = lista1 + lista2\n",
    "print(lista4)"
   ]
  },
  {
   "cell_type": "code",
   "execution_count": null,
   "id": "680704d8",
   "metadata": {},
   "outputs": [],
   "source": []
  }
 ],
 "metadata": {
  "kernelspec": {
   "display_name": "Python 3 (ipykernel)",
   "language": "python",
   "name": "python3"
  },
  "language_info": {
   "codemirror_mode": {
    "name": "ipython",
    "version": 3
   },
   "file_extension": ".py",
   "mimetype": "text/x-python",
   "name": "python",
   "nbconvert_exporter": "python",
   "pygments_lexer": "ipython3",
   "version": "3.9.7"
  }
 },
 "nbformat": 4,
 "nbformat_minor": 5
}
