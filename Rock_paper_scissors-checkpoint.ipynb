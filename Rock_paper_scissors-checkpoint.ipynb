{
 "cells": [
  {
   "cell_type": "markdown",
   "metadata": {},
   "source": [
    "<img src=\"https://bit.ly/2VnXWr2\" width=\"100\" align=\"left\">"
   ]
  },
  {
   "cell_type": "markdown",
   "metadata": {},
   "source": [
    "# Rock, Paper & Scissors\n",
    "\n",
    "Let's play the famous game against our computer. You can check the rules [here](https://en.wikipedia.org/wiki/Rock%E2%80%93paper%E2%80%93scissors). \n",
    "\n",
    "## Task\n",
    "Create a program that imitates the playability of the well known game of rock, paper, scissors. Follow the guidelines provided.\n",
    "\n",
    "## Tools\n",
    "1. Loop: **for/while**\n",
    "2. Functions: **input(), print()...**\n",
    "3. Conditional statements: **if, elif, else**\n",
    "4. Definition of functions. Modular programming\n",
    "5. Import modules\n",
    "\n",
    "**To solve this challenge, the use of functions is recommended.**\n",
    "\n",
    "#### 1. Import the choice function of the random module."
   ]
  },
  {
   "cell_type": "code",
   "execution_count": null,
   "metadata": {},
   "outputs": [],
   "source": []
  },
  {
   "cell_type": "markdown",
   "metadata": {},
   "source": [
    "#### 2. Create a list that includes the 3 possible gesture options of the game: 'rock', 'paper' or 'scissors'. Store the list in a variable called `gestures`."
   ]
  },
  {
   "cell_type": "code",
   "execution_count": null,
   "metadata": {},
   "outputs": [],
   "source": [
    "gestures = [\"rock\", \"paper\", \"scissors\"]"
   ]
  },
  {
   "cell_type": "markdown",
   "metadata": {},
   "source": [
    "#### 3. Create a variable called `n_rounds` to store the maximum number of rounds to play in a game. \n",
    "Remember that the number of rounds must be odd: 1, 3, 5, ..."
   ]
  },
  {
   "cell_type": "markdown",
   "metadata": {},
   "source": [
    "while True:\n",
    "  try:\n",
    "    age = int(input(\"Enter your age: \"))\n",
    "    if age > 0:\n",
    "      break\n",
    "    print(\"Invalid age entered\")\n",
    "  except Exception as e:\n",
    "    print(e)"
   ]
  },
  {
   "cell_type": "code",
   "execution_count": 1,
   "metadata": {
    "scrolled": true
   },
   "outputs": [],
   "source": [
    "'Function asks user to input an odd number and checks for errors.' \n",
    "'While True = an everlasting loop (while True is True = always)'\n",
    "'try executes the input function;'\n",
    "'1. if the input is greater than 0 and odd, the loop breaks and the function prints'\n",
    "'\"Number of rounds + n_rounds\"'\n",
    "'2. if the input is smaller than 0 or even, the loop doesnt break and the function prints'\n",
    "'\"Invalid input, the number must be odd or positive\"; the loop starts again, the user has to enter input'\n",
    "'3. If the input is not an integer, the function omits the \"try\" part (because the input is not an int)'\n",
    "'and executes the exception; the exception prints \"Invalid input, please enter a number\"'\n",
    "'The function then prints the number of rounds and returns it.'\n",
    "'The return is stored in the variable n, so it can be used as input for the next function.'\n",
    "'The function is called directly in the definition of the variable n'\n",
    "\n",
    "def total_rounds():\n",
    "    \n",
    "    global n_rounds\n",
    "    \n",
    "    while True:\n",
    "       try:\n",
    "        n_rounds = int(input(\"Please enter an odd number of rounds: \")) \n",
    "        if n_rounds >= 0 and n_rounds % 2 == 1:\n",
    "            break\n",
    "        print(\"Invalid input, the number must be odd and positive\")\n",
    "       except: \n",
    "        print(\"Invalid input, please enter a number\")\n",
    "     \n",
    "    return n_rounds"
   ]
  },
  {
   "cell_type": "markdown",
   "metadata": {},
   "source": [
    "#### 4. Create a variable called `rounds_to_win` to store the number of rounds that a player must win to win the game.\n",
    "**Hint**: the value stored in `rounds_to_win` depends on the value of `n_rounds`. "
   ]
  },
  {
   "cell_type": "code",
   "execution_count": 9,
   "metadata": {},
   "outputs": [
    {
     "name": "stdout",
     "output_type": "stream",
     "text": [
      "Rounds required to win the game: 2\n"
     ]
    },
    {
     "data": {
      "text/plain": [
       "2"
      ]
     },
     "execution_count": 9,
     "metadata": {},
     "output_type": "execute_result"
    }
   ],
   "source": [
    "'The function takes the variable n which is the output of the previous function, divides it by two and calculates the'\n",
    "'ceiling of the result, so we the output is always more than the half of the number of the rounds; math is used for' \n",
    "'the ceiling function'\n",
    "\n",
    "import math\n",
    "\n",
    "def how_many_rounds_to_win():\n",
    "    \n",
    "    rounds_to_win = math.ceil(n_rounds / 2)\n",
    "    print(\"Rounds required to win the game: \" + str(rounds_to_win))\n",
    "    \n",
    "    return rounds_to_win"
   ]
  },
  {
   "cell_type": "markdown",
   "metadata": {},
   "source": [
    "#### 5. Create two variables to store the number of rounds that the computer and the player have won. Call these variables `cpu_score` and `player_score`."
   ]
  },
  {
   "cell_type": "code",
   "execution_count": 16,
   "metadata": {},
   "outputs": [],
   "source": [
    "cpu_score = 0\n",
    "player_score = 0"
   ]
  },
  {
   "cell_type": "markdown",
   "metadata": {},
   "source": [
    "#### 6. Define a function that randomly returns one of the 3 gesture options.\n",
    "You will use this function to simulate the gesture choice of the computer. "
   ]
  },
  {
   "cell_type": "code",
   "execution_count": 17,
   "metadata": {},
   "outputs": [],
   "source": [
    "import random\n",
    "\n",
    "def random_cpu_choice():\n",
    "    cpu_choice = random.choice(gestures)\n",
    "    return cpu_choice\n"
   ]
  },
  {
   "cell_type": "markdown",
   "metadata": {},
   "source": [
    "#### 7. Define a function that asks the player which is the gesture he or she wants to show: 'rock', 'paper' or 'scissors'.\n",
    "The player should only be allowed to choose one of the 3 gesture options. If the player's choice is not rock, paper or scissors, keep asking until it is."
   ]
  },
  {
   "cell_type": "code",
   "execution_count": 18,
   "metadata": {},
   "outputs": [],
   "source": [
    "def p_choice():\n",
    "      \n",
    "    while True:\n",
    "        try:\n",
    "            player_choice = input(\"Please enter 'rock', 'paper' or 'scissors': \")\n",
    "            if player_choice in gestures:\n",
    "                break\n",
    "            print(\"The only possible entries are 'rock', 'paper' and 'scissors'\")\n",
    "        except:\n",
    "            print(\"Invalid choice\")\n",
    "        \n",
    "    return player_choice\n"
   ]
  },
  {
   "cell_type": "markdown",
   "metadata": {},
   "source": [
    "#### 8. Define a function that checks who won a round. \n",
    "The function should return 0 if there is a tie, 1 if the computer wins and 2 if the player wins."
   ]
  },
  {
   "cell_type": "code",
   "execution_count": 19,
   "metadata": {},
   "outputs": [
    {
     "ename": "NameError",
     "evalue": "name 'cpu_choice' is not defined",
     "output_type": "error",
     "traceback": [
      "\u001b[1;31m---------------------------------------------------------------------------\u001b[0m",
      "\u001b[1;31mNameError\u001b[0m                                 Traceback (most recent call last)",
      "\u001b[1;32m~\\AppData\\Local\\Temp/ipykernel_13768/1054309134.py\u001b[0m in \u001b[0;36m<module>\u001b[1;34m\u001b[0m\n\u001b[0;32m     33\u001b[0m \u001b[1;33m\u001b[0m\u001b[0m\n\u001b[0;32m     34\u001b[0m \u001b[1;33m\u001b[0m\u001b[0m\n\u001b[1;32m---> 35\u001b[1;33m \u001b[0mround_winner\u001b[0m\u001b[1;33m(\u001b[0m\u001b[1;33m)\u001b[0m\u001b[1;33m\u001b[0m\u001b[1;33m\u001b[0m\u001b[0m\n\u001b[0m",
      "\u001b[1;32m~\\AppData\\Local\\Temp/ipykernel_13768/1054309134.py\u001b[0m in \u001b[0;36mround_winner\u001b[1;34m()\u001b[0m\n\u001b[0;32m      1\u001b[0m \u001b[1;32mdef\u001b[0m \u001b[0mround_winner\u001b[0m\u001b[1;33m(\u001b[0m\u001b[1;33m)\u001b[0m\u001b[1;33m:\u001b[0m\u001b[1;33m\u001b[0m\u001b[1;33m\u001b[0m\u001b[0m\n\u001b[0;32m      2\u001b[0m \u001b[1;33m\u001b[0m\u001b[0m\n\u001b[1;32m----> 3\u001b[1;33m     \u001b[1;32mif\u001b[0m \u001b[0mcpu_choice\u001b[0m \u001b[1;33m==\u001b[0m \u001b[1;34m\"rock\"\u001b[0m\u001b[1;33m:\u001b[0m\u001b[1;33m\u001b[0m\u001b[1;33m\u001b[0m\u001b[0m\n\u001b[0m\u001b[0;32m      4\u001b[0m         \u001b[1;32mif\u001b[0m \u001b[0mplayer_choice\u001b[0m \u001b[1;33m==\u001b[0m \u001b[1;34m\"rock\"\u001b[0m\u001b[1;33m:\u001b[0m\u001b[1;33m\u001b[0m\u001b[1;33m\u001b[0m\u001b[0m\n\u001b[0;32m      5\u001b[0m             \u001b[0mprint\u001b[0m\u001b[1;33m(\u001b[0m\u001b[1;34m\"It's a tie\"\u001b[0m\u001b[1;33m)\u001b[0m\u001b[1;33m\u001b[0m\u001b[1;33m\u001b[0m\u001b[0m\n",
      "\u001b[1;31mNameError\u001b[0m: name 'cpu_choice' is not defined"
     ]
    }
   ],
   "source": [
    "def round_winner():\n",
    "      \n",
    "    if cpu_choice == \"rock\":\n",
    "        if player_choice == \"rock\":\n",
    "            print(\"It's a tie\")\n",
    "            return 0            \n",
    "        elif player_choice == \"paper\":\n",
    "            print(\"Player wins the round\")\n",
    "            return 2            \n",
    "        elif player_choice == \"scissors\":\n",
    "            print(\"CPU wins the round\")\n",
    "            return 1            \n",
    "    elif cpu_choice == \"paper\":\n",
    "        if player_choice == \"rock\":\n",
    "            print(\"Player wins the round\")\n",
    "            return 2            \n",
    "        elif player_choice == \"paper\":\n",
    "            print(\"It's a tie\")\n",
    "            return 0            \n",
    "        elif player_choice == \"scissors\":\n",
    "            print(\"Player wins the round\")\n",
    "            return 2            \n",
    "    elif cpu_choice == \"scissors\":\n",
    "        if player_choice == \"rock\":\n",
    "            print(\"Player wins the round\")\n",
    "            return 2  \n",
    "        elif player_choice == \"paper\":\n",
    "            print(\"CPU wins the round\")\n",
    "            return 1            \n",
    "        elif p_choice == \"scissors\":\n",
    "            print(\"It's a tie\")\n",
    "            return 0\n",
    "            \n",
    "                   \n",
    "round_winner()"
   ]
  },
  {
   "cell_type": "markdown",
   "metadata": {},
   "source": [
    "#### 9. Define a function that prints the choice of the computer, the choice of the player and a message that announces who won the current round. \n",
    "You should also use this function to update the variables that count the number of rounds that the computer and the player have won. The score of the winner increases by one point. If there is a tie, the score does not increase."
   ]
  },
  {
   "cell_type": "code",
   "execution_count": null,
   "metadata": {
    "scrolled": true
   },
   "outputs": [],
   "source": [
    "def round():   \n",
    "       \n",
    "    cpu_choice = random_cpu_choice()\n",
    "    player_choice = p_choice()\n",
    "    \n",
    "    print(\"CPU chooses: \" + str(cpu_choice))\n",
    "    print(\"Player chooses: \" + str(player_choice))\n",
    "     \n",
    "    r_winner = round_winner()\n",
    "    \n",
    "    global player_score\n",
    "    player_score = 0\n",
    "    global cpu_score\n",
    "    cpu_score = 0\n",
    "    \n",
    "    if r_winner == 1:\n",
    "        cpu_score += 1        \n",
    "    elif r_winner == 2:\n",
    "        player_score += 1\n",
    "\n",
    "round()"
   ]
  },
  {
   "cell_type": "markdown",
   "metadata": {},
   "source": [
    "#### 10. Now it's time to code the execution of the game using the functions and variables you defined above. \n",
    "\n",
    "First, create a loop structure that repeats while no player reaches the minimum score necessary to win and the number of rounds is less than the maximum number of rounds to play in a game.  \n",
    "\n",
    "Inside the loop, use the functions and variables above to create the execution of a round: ask for the player's choice, generate the random choice of the computer, show the round results, update the scores, etc. "
   ]
  },
  {
   "cell_type": "code",
   "execution_count": 14,
   "metadata": {},
   "outputs": [
    {
     "name": "stdout",
     "output_type": "stream",
     "text": [
      "Please enter an odd number of rounds: 3\n",
      "Rounds required to win the game: 2\n"
     ]
    }
   ],
   "source": [
    "total_rounds()\n",
    "\n",
    "rounds_to_win = how_many_rounds_to_win()"
   ]
  },
  {
   "cell_type": "code",
   "execution_count": 15,
   "metadata": {
    "scrolled": true
   },
   "outputs": [
    {
     "ename": "NameError",
     "evalue": "name 'cpu_score' is not defined",
     "output_type": "error",
     "traceback": [
      "\u001b[1;31m---------------------------------------------------------------------------\u001b[0m",
      "\u001b[1;31mNameError\u001b[0m                                 Traceback (most recent call last)",
      "\u001b[1;32m~\\AppData\\Local\\Temp/ipykernel_13768/2795559314.py\u001b[0m in \u001b[0;36m<module>\u001b[1;34m\u001b[0m\n\u001b[1;32m----> 1\u001b[1;33m \u001b[1;32mwhile\u001b[0m \u001b[0mcpu_score\u001b[0m \u001b[1;33m<\u001b[0m \u001b[0mrounds_to_win\u001b[0m \u001b[1;32mor\u001b[0m \u001b[0mplayer_score\u001b[0m \u001b[1;33m<\u001b[0m \u001b[0mrounds_to_win\u001b[0m\u001b[1;33m:\u001b[0m\u001b[1;33m\u001b[0m\u001b[1;33m\u001b[0m\u001b[0m\n\u001b[0m\u001b[0;32m      2\u001b[0m     \u001b[0mround\u001b[0m\u001b[1;33m(\u001b[0m\u001b[1;33m)\u001b[0m\u001b[1;33m\u001b[0m\u001b[1;33m\u001b[0m\u001b[0m\n\u001b[0;32m      3\u001b[0m \u001b[1;33m\u001b[0m\u001b[0m\n\u001b[0;32m      4\u001b[0m \u001b[0mgame\u001b[0m\u001b[1;33m(\u001b[0m\u001b[1;33m)\u001b[0m\u001b[1;33m\u001b[0m\u001b[1;33m\u001b[0m\u001b[0m\n\u001b[0;32m      5\u001b[0m \u001b[1;33m\u001b[0m\u001b[0m\n",
      "\u001b[1;31mNameError\u001b[0m: name 'cpu_score' is not defined"
     ]
    }
   ],
   "source": [
    "while cpu_score < rounds_to_win or player_score < rounds_to_win:\n",
    "    round()\n",
    "\n",
    "game()\n",
    "\n",
    "print(cpu_score)"
   ]
  },
  {
   "cell_type": "markdown",
   "metadata": {},
   "source": [
    "#### 11. Print the winner of the game based on who won more rounds.\n",
    "Remember that the game might be tied. "
   ]
  },
  {
   "cell_type": "code",
   "execution_count": null,
   "metadata": {},
   "outputs": [],
   "source": []
  },
  {
   "cell_type": "markdown",
   "metadata": {},
   "source": [
    "# Bonus: Rock, Paper, Scissors, Lizard & Spock\n",
    "![](images/rpsls.jpg)\n",
    "\n",
    "In this challenge, you need to improve the previous game by adding two new options. To know more about the rules of the improved version of rock, paper, scissors, check this [link](http://www.samkass.com/theories/RPSSL.html). \n",
    "\n",
    "In addition, you will also need to improve how the game interacts with the player: the number of rounds to play, which must be an odd number, will be requested to the user until a valid number is entered. Define a new function to make that request.\n",
    "\n",
    "**Hint**: Try to reuse the code that you already coded in the previous challenge. If your code is efficient, this bonus will only consist of simple modifications to the original game."
   ]
  },
  {
   "cell_type": "code",
   "execution_count": null,
   "metadata": {},
   "outputs": [],
   "source": []
  },
  {
   "cell_type": "code",
   "execution_count": null,
   "metadata": {},
   "outputs": [],
   "source": []
  }
 ],
 "metadata": {
  "kernelspec": {
   "display_name": "Python 3 (ipykernel)",
   "language": "python",
   "name": "python3"
  },
  "language_info": {
   "codemirror_mode": {
    "name": "ipython",
    "version": 3
   },
   "file_extension": ".py",
   "mimetype": "text/x-python",
   "name": "python",
   "nbconvert_exporter": "python",
   "pygments_lexer": "ipython3",
   "version": "3.9.7"
  }
 },
 "nbformat": 4,
 "nbformat_minor": 2
}
