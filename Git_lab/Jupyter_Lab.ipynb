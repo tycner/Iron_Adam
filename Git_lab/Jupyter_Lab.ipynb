{
 "cells": [
  {
   "cell_type": "markdown",
   "id": "6f4f8f78",
   "metadata": {},
   "source": [
    "# Heading\n"
   ]
  },
  {
   "cell_type": "markdown",
   "id": "4728afcf",
   "metadata": {},
   "source": [
    "Markdown cells display text which is not treated as a code"
   ]
  },
  {
   "cell_type": "code",
   "execution_count": null,
   "id": "54e1c6cf",
   "metadata": {},
   "outputs": [],
   "source": [
    "input(\"What is your name? \")"
   ]
  },
  {
   "cell_type": "markdown",
   "id": "b8e47a45",
   "metadata": {},
   "source": [
    "![alt text](https://www.abgeordnetenwatch.de/sites/default/files/styles/opengraph_image/public/politicians-profile-pictures/olaf-scholz-01.jpg?itok=38QnvFTI)"
   ]
  },
  {
   "cell_type": "code",
   "execution_count": 1,
   "id": "bb618a68",
   "metadata": {},
   "outputs": [
    {
     "name": "stdout",
     "output_type": "stream",
     "text": [
      "What's your holiday preference? Bahamas\n"
     ]
    },
    {
     "data": {
      "text/plain": [
       "'Bahamas'"
      ]
     },
     "execution_count": 1,
     "metadata": {},
     "output_type": "execute_result"
    }
   ],
   "source": [
    "input(\"What's your holiday preference? \")"
   ]
  },
  {
   "cell_type": "markdown",
   "id": "95c5a3f9",
   "metadata": {},
   "source": [
    "![alt text](https://urlaubsengel.de/wp-content/uploads/2021/01/bahamas-schwimmende-schweine-urlaubsengel.jpeg)"
   ]
  },
  {
   "cell_type": "markdown",
   "id": "4c8b2c38",
   "metadata": {},
   "source": [
    "- *Swimming*\n",
    "- **Sunbathing** \n",
    "- <font color='red'>Playing volleyball</font>"
   ]
  },
  {
   "cell_type": "markdown",
   "id": "ce67f657",
   "metadata": {},
   "source": [
    "https://youtu.be/3apbS5OBuaA"
   ]
  },
  {
   "cell_type": "code",
   "execution_count": null,
   "id": "d4cf5be3",
   "metadata": {},
   "outputs": [],
   "source": []
  }
 ],
 "metadata": {
  "kernelspec": {
   "display_name": "my_env",
   "language": "python",
   "name": "my_env"
  },
  "language_info": {
   "codemirror_mode": {
    "name": "ipython",
    "version": 3
   },
   "file_extension": ".py",
   "mimetype": "text/x-python",
   "name": "python",
   "nbconvert_exporter": "python",
   "pygments_lexer": "ipython3",
   "version": "3.8.12"
  }
 },
 "nbformat": 4,
 "nbformat_minor": 5
}
