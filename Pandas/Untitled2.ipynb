{
 "cells": [
  {
   "cell_type": "code",
   "execution_count": 18,
   "id": "9e87ce61",
   "metadata": {},
   "outputs": [],
   "source": [
    "data = [(84, 26), (49, 26), (36, 25), (63, 24), (55, 19), (66, 21)]"
   ]
  },
  {
   "cell_type": "code",
   "execution_count": 2,
   "id": "5ee165ea",
   "metadata": {
    "scrolled": true
   },
   "outputs": [
    {
     "data": {
      "text/plain": [
       "84"
      ]
     },
     "execution_count": 2,
     "metadata": {},
     "output_type": "execute_result"
    }
   ],
   "source": [
    "mylist[0][0]"
   ]
  },
  {
   "cell_type": "code",
   "execution_count": 10,
   "id": "15939e10",
   "metadata": {},
   "outputs": [
    {
     "data": {
      "text/plain": [
       "['Senior', 'Open', 'Open', 'Senior', 'Senior', 'Senior']"
      ]
     },
     "execution_count": 10,
     "metadata": {},
     "output_type": "execute_result"
    }
   ],
   "source": [
    "\n",
    "new_list = []\n",
    "for a_tuple in mylist:\n",
    "    if a_tuple[0] >= 55 and a_tuple[1] > 7:\n",
    "        new_list.append(\"Senior\")\n",
    "    else:\n",
    "        new_list.append(\"Open\")\n",
    "new_list"
   ]
  },
  {
   "cell_type": "code",
   "execution_count": 19,
   "id": "8f5cafaa",
   "metadata": {},
   "outputs": [
    {
     "data": {
      "text/plain": [
       "['Senior', 'Open', 'Open', 'Senior', 'Senior', 'Senior']"
      ]
     },
     "execution_count": 19,
     "metadata": {},
     "output_type": "execute_result"
    }
   ],
   "source": [
    "def openOrSenior(data):\n",
    "    return [\"Senior\" if age >= 55 and handicap >= 8 else \"Open\" for (age, handicap) in data]\n",
    "openOrSenior(data)"
   ]
  },
  {
   "cell_type": "code",
   "execution_count": 21,
   "id": "9cb2e9a2",
   "metadata": {},
   "outputs": [
    {
     "data": {
      "text/plain": [
       "['Senior', 'Open', 'Open', 'Senior', 'Senior', 'Senior']"
      ]
     },
     "execution_count": 21,
     "metadata": {},
     "output_type": "execute_result"
    }
   ],
   "source": [
    "def new_func(data):\n",
    "    return [\"Senior\" if age >= 55 and handicap > 7 else \"Open\" for (age, handicap) in data]\n",
    "new_func(data)"
   ]
  },
  {
   "cell_type": "code",
   "execution_count": 36,
   "id": "9935733c",
   "metadata": {},
   "outputs": [
    {
     "data": {
      "text/plain": [
       "[7, 9, 5, 8, 4, 3]"
      ]
     },
     "execution_count": 36,
     "metadata": {},
     "output_type": "execute_result"
    }
   ],
   "source": [
    "digits = 348597\n",
    "\n",
    "def digitize(n):\n",
    "    return [int(x) for x in reversed(str(n))]\n",
    "digitize(digits)\n"
   ]
  },
  {
   "cell_type": "code",
   "execution_count": 46,
   "id": "6f2c9d1c",
   "metadata": {},
   "outputs": [
    {
     "data": {
      "text/plain": [
       "[7, 9, 5, 8, 4, 3]"
      ]
     },
     "execution_count": 46,
     "metadata": {},
     "output_type": "execute_result"
    }
   ],
   "source": [
    "def func(x):\n",
    "    return [int(i) for i in reversed(str(x))]\n",
    "func(digits)"
   ]
  },
  {
   "cell_type": "code",
   "execution_count": null,
   "id": "fd34e250",
   "metadata": {},
   "outputs": [],
   "source": [
    "'''\n",
    "In a small town the population is p0 = 1000 at the beginning of a year. The population regularly increases \n",
    "by 2 percent per year and moreover 50 new inhabitants per year come to live in the town. \n",
    "How many years does the town need to see its population greater or equal to p = 1200 inhabitants?\n",
    "'''"
   ]
  },
  {
   "cell_type": "code",
   "execution_count": 65,
   "id": "c1c48fae",
   "metadata": {},
   "outputs": [
    {
     "data": {
      "text/plain": [
       "4"
      ]
     },
     "execution_count": 65,
     "metadata": {},
     "output_type": "execute_result"
    }
   ],
   "source": [
    "import math\n",
    "\n",
    "def nb_year(p0, percent, aug, p):    \n",
    "    years = 0\n",
    "    while math.floor(p0) <= p:\n",
    "        p0 = math.floor(p0) + math.floor(p0) * percent/100 + aug\n",
    "        years += 1       \n",
    "    return years\n",
    "\n",
    "nb_year(1000, 20, 50, 1200)"
   ]
  },
  {
   "cell_type": "code",
   "execution_count": null,
   "id": "6dec7573",
   "metadata": {},
   "outputs": [],
   "source": []
  }
 ],
 "metadata": {
  "kernelspec": {
   "display_name": "Python 3 (ipykernel)",
   "language": "python",
   "name": "python3"
  },
  "language_info": {
   "codemirror_mode": {
    "name": "ipython",
    "version": 3
   },
   "file_extension": ".py",
   "mimetype": "text/x-python",
   "name": "python",
   "nbconvert_exporter": "python",
   "pygments_lexer": "ipython3",
   "version": "3.9.7"
  }
 },
 "nbformat": 4,
 "nbformat_minor": 5
}
