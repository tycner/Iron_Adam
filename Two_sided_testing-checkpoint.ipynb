{
 "cells": [
  {
   "cell_type": "code",
   "execution_count": 1,
   "id": "793fb708",
   "metadata": {},
   "outputs": [],
   "source": [
    "import scipy.stats as stats\n",
    "import numpy as np\n",
    "import seaborn as sns"
   ]
  },
  {
   "cell_type": "markdown",
   "id": "c996b75a",
   "metadata": {},
   "source": [
    "H0: New machine is slower or the machines are equally fast\n",
    "    mean_new => mean_old\n",
    "\n",
    "H1: New machine is faster than the old one\n",
    "    mean_new < mean_old"
   ]
  },
  {
   "cell_type": "code",
   "execution_count": 2,
   "id": "f2f219bb",
   "metadata": {},
   "outputs": [
    {
     "name": "stdout",
     "output_type": "stream",
     "text": [
      "The mean for the new machine is 42.14\n",
      "The mean for the old machine is 43.230000000000004\n"
     ]
    }
   ],
   "source": [
    "machine_new = [42.1, 41, 41.3, 41.8, 42.4, 42.8, 43.2, 42.3, 41.8, 42.7]\n",
    "machine_old = [42.7, 43.6, 43.8, 43.3, 42.5, 43.5, 43.1, 41.7, 44, 44.1]\n",
    "\n",
    "mean_new = np.mean(machine_new)\n",
    "mean_old = np.mean(machine_old)\n",
    "\n",
    "print(\"The mean for the new machine is \" + str(mean_new ))\n",
    "print(\"The mean for the old machine is \" + str(mean_old))"
   ]
  },
  {
   "cell_type": "code",
   "execution_count": 3,
   "id": "8ad1dad7",
   "metadata": {},
   "outputs": [
    {
     "name": "stdout",
     "output_type": "stream",
     "text": [
      "The size of the sample for the new machine is 10\n",
      "The size of the sample for the new machine is 10\n"
     ]
    }
   ],
   "source": [
    "n_new = len(machine_new)\n",
    "n_old = len(machine_old)\n",
    "print(\"The size of the sample for the new machine is \" + str(n_new))\n",
    "print(\"The size of the sample for the new machine is \" + str(len(machine_old)))"
   ]
  },
  {
   "cell_type": "code",
   "execution_count": 4,
   "id": "a1b25b25",
   "metadata": {
    "scrolled": true
   },
   "outputs": [
    {
     "name": "stdout",
     "output_type": "stream",
     "text": [
      "The standard deviation for the new machine is 0.6483826030978941\n",
      "The standard deviation for the new machine is 0.7114070564732956\n"
     ]
    }
   ],
   "source": [
    "std_new = (np.std(machine_new))\n",
    "std_old = (np.std(machine_old))\n",
    "print(\"The standard deviation for the new machine is \" + str(std_new))\n",
    "print(\"The standard deviation for the new machine is \" + str(std_old))"
   ]
  },
  {
   "cell_type": "code",
   "execution_count": 14,
   "id": "db42ffd3",
   "metadata": {},
   "outputs": [
    {
     "data": {
      "text/plain": [
       "3.5809955894645813"
      ]
     },
     "execution_count": 14,
     "metadata": {},
     "output_type": "execute_result"
    }
   ],
   "source": [
    "t = abs(( mean_new - mean_old ) / np.sqrt( ((std_new**2)/10) + ((std_old**2)/10 ) ))\n",
    "\n",
    "t"
   ]
  },
  {
   "cell_type": "code",
   "execution_count": 15,
   "id": "594568c4",
   "metadata": {},
   "outputs": [
    {
     "name": "stdout",
     "output_type": "stream",
     "text": [
      "The tc critical value is: 1.83\n"
     ]
    }
   ],
   "source": [
    "tc = stats.t.ppf(1-(0.05),df=9) \n",
    "print(\"The tc critical value is: {:.2f}\".format(tc))"
   ]
  },
  {
   "cell_type": "code",
   "execution_count": 16,
   "id": "2435e829",
   "metadata": {},
   "outputs": [],
   "source": [
    "import matplotlib.pyplot as plt\n",
    "import numpy as np\n",
    "import scipy.stats as stats\n",
    "import math\n",
    "\n",
    "%matplotlib inline\n",
    "\n",
    "def visual_test(statistic, critical, dist = 'Norm', df = 0):\n",
    "    '''\n",
    "    Function to plot the normal or the t-student distribution \n",
    "    showing the location of the critical values and the statistic location.\n",
    "    Inputs:\n",
    "        statistic -> user's statistic\n",
    "        critical  -> critical value\n",
    "    Parameter:\n",
    "        dist -> distribution to use\n",
    "        df   -> degrees of freedom\n",
    "    Outputs:\n",
    "        Plots the corresponding distribution showin the user statistic location and the critical value.\n",
    "    '''\n",
    "\n",
    "    mu = 0\n",
    "    sigma = 1\n",
    "\n",
    "    x = np.linspace(mu - 4*sigma, mu + 4*sigma, 100)\n",
    "    x0 = np.linspace(mu - 4*sigma, mu + 4*sigma, 100)\n",
    "    \n",
    "\n",
    "    if ( dist == 'Norm' ):\n",
    "        plt.plot(x, stats.norm.pdf(x, mu, sigma))\n",
    "        plt.fill_between(x0,stats.norm.pdf(x, mu, sigma),where = (x < -critical),facecolor='red')\n",
    "        \n",
    "    else:\n",
    "        if ( df == 0 ):\n",
    "            while ( df == 0 or type(df) != int):\n",
    "                try:\n",
    "                    df = int(input(\"Set the correct value of degrees of freedom please: \" )) \n",
    "                except:\n",
    "                    df = 0       \n",
    "        plt.plot(x, stats.t.pdf(x,df))\n",
    "        plt.fill_between(x0,stats.t.pdf(x,df),where = (x > critical),facecolor='red')\n",
    "\n",
    "    \n",
    "    plt.axvline(critical, c = 'r')\n",
    "    plt.axvline(statistic,c='b')\n",
    "    \n",
    "\n",
    "    plt.show()"
   ]
  },
  {
   "cell_type": "code",
   "execution_count": 17,
   "id": "fc6464fc",
   "metadata": {
    "scrolled": true
   },
   "outputs": [
    {
     "data": {
      "image/png": "[encoded data removed]",
      "text/plain": [
       "<Figure size 432x288 with 1 Axes>"
      ]
     },
     "metadata": {
      "needs_background": "light"
     },
     "output_type": "display_data"
    }
   ],
   "source": [
    "visual_test(t,tc,dist = 't',df=9)"
   ]
  },
  {
   "cell_type": "code",
   "execution_count": 18,
   "id": "6507525d",
   "metadata": {},
   "outputs": [],
   "source": [
    "# The H0 is rejected, the alternative hypothesis is true: the new machine is faster than the old one"
   ]
  }
 ],
 "metadata": {
  "kernelspec": {
   "display_name": "Python 3 (ipykernel)",
   "language": "python",
   "name": "python3"
  },
  "language_info": {
   "codemirror_mode": {
    "name": "ipython",
    "version": 3
   },
   "file_extension": ".py",
   "mimetype": "text/x-python",
   "name": "python",
   "nbconvert_exporter": "python",
   "pygments_lexer": "ipython3",
   "version": "3.9.7"
  }
 },
 "nbformat": 4,
 "nbformat_minor": 5
}
