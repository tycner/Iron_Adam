{
 "cells": [
  {
   "cell_type": "code",
   "execution_count": 2,
   "id": "0ffe9168",
   "metadata": {},
   "outputs": [
    {
     "ename": "IndentationError",
     "evalue": "unexpected indent (Temp/ipykernel_19512/98042895.py, line 6)",
     "output_type": "error",
     "traceback": [
      "\u001b[1;36m  File \u001b[1;32m\"C:\\Users\\atycn\\AppData\\Local\\Temp/ipykernel_19512/98042895.py\"\u001b[1;36m, line \u001b[1;32m6\u001b[0m\n\u001b[1;33m    break\u001b[0m\n\u001b[1;37m    ^\u001b[0m\n\u001b[1;31mIndentationError\u001b[0m\u001b[1;31m:\u001b[0m unexpected indent\n"
     ]
    }
   ],
   "source": [
    "list1 = [\"g\", \"g\", \"s\", \"s\", \"s\" \"g\", \"g\", \"g\"]\n",
    "\n",
    "for i in range(len(list1)):\n",
    "    if list1[i] == list1[i+1] == list1[i+2] == \"g\":\n",
    "        print(\"Gandalf wins\")\n",
    "        break\n",
    "    elif list1[i] == list1[i+1] == list1[i+2] == \"s\":\n",
    "        print(\"Saruman wins\")\n",
    "        break"
   ]
  },
  {
   "cell_type": "code",
   "execution_count": null,
   "id": "722163a3",
   "metadata": {},
   "outputs": [],
   "source": []
  }
 ],
 "metadata": {
  "kernelspec": {
   "display_name": "Python 3 (ipykernel)",
   "language": "python",
   "name": "python3"
  },
  "language_info": {
   "codemirror_mode": {
    "name": "ipython",
    "version": 3
   },
   "file_extension": ".py",
   "mimetype": "text/x-python",
   "name": "python",
   "nbconvert_exporter": "python",
   "pygments_lexer": "ipython3",
   "version": "3.9.7"
  }
 },
 "nbformat": 4,
 "nbformat_minor": 5
}
