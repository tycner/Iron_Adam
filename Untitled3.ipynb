{
 "cells": [
  {
   "cell_type": "code",
   "execution_count": null,
   "id": "5b07c8ac",
   "metadata": {},
   "outputs": [],
   "source": [
    "import tkinter as tk\n",
    "from tkinter import messagebox\n",
    "\n",
    "root= tk.Tk()\n",
    "\n",
    "canvas1 = tk.Canvas(root, width = 300, height = 300)\n",
    "canvas1.pack()\n",
    "\n",
    "def ExitApplication():\n",
    "    MsgBox = tk.messagebox.askquestion ('Exit Application','Are you sure you want to exit the application',icon = 'warning')\n",
    "    if MsgBox == 'yes':\n",
    "       root.destroy()\n",
    "    else:\n",
    "        tk.messagebox.showinfo('Return','You will now return to the application screen')\n",
    "        \n",
    "button1 = tk.Button (root, text='Exit Application',command=ExitApplication,bg='brown',fg='white')\n",
    "canvas1.create_window(150, 150, window=button1)\n",
    "  \n",
    "root.mainloop()"
   ]
  },
  {
   "cell_type": "code",
   "execution_count": null,
   "id": "24bde9bc",
   "metadata": {},
   "outputs": [],
   "source": []
  }
 ],
 "metadata": {
  "kernelspec": {
   "display_name": "Python 3 (ipykernel)",
   "language": "python",
   "name": "python3"
  },
  "language_info": {
   "codemirror_mode": {
    "name": "ipython",
    "version": 3
   },
   "file_extension": ".py",
   "mimetype": "text/x-python",
   "name": "python",
   "nbconvert_exporter": "python",
   "pygments_lexer": "ipython3",
   "version": "3.9.7"
  }
 },
 "nbformat": 4,
 "nbformat_minor": 5
}
