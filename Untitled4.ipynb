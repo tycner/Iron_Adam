{
 "cells": [
  {
   "cell_type": "code",
   "execution_count": 3,
   "id": "70a79b9f",
   "metadata": {},
   "outputs": [],
   "source": [
    "import tkinter as tk\n",
    "from tkinter import messagebox\n"
   ]
  },
  {
   "cell_type": "code",
   "execution_count": 4,
   "id": "d86baf77",
   "metadata": {},
   "outputs": [],
   "source": [
    "root= tk.Tk()"
   ]
  },
  {
   "cell_type": "code",
   "execution_count": 5,
   "id": "1a3f61b4",
   "metadata": {},
   "outputs": [],
   "source": [
    "canvas1 = tk.Canvas(root, width = 300, height = 300)\n",
    "canvas1.pack()"
   ]
  },
  {
   "cell_type": "code",
   "execution_count": null,
   "id": "3618a8ac",
   "metadata": {},
   "outputs": [],
   "source": [
    "a = tk.messagebox.askquestion('Exit Application','Are you sure you want to exit the application',icon = 'warning')\n"
   ]
  },
  {
   "cell_type": "markdown",
   "id": "4f2b10b9",
   "metadata": {},
   "source": [
    "def ExitApplication():\n",
    "    MsgBox = tk.messagebox.askquestion ('Exit Application','Are you sure you want to exit the application',icon = 'warning')\n",
    "    if MsgBox == 'yes':\n",
    "        print(\"Yes\")\n",
    "    else:\n",
    "        tk.messagebox.showinfo('Return','You will now return to the application screen')\n",
    "        \n",
    "button1 = tk.Button (root, text='Exit Application',command=ExitApplication,bg='brown',fg='white')\n",
    "canvas1.create_window(150, 150, window=button1)\n",
    "  \n",
    "root.mainloop()"
   ]
  }
 ],
 "metadata": {
  "kernelspec": {
   "display_name": "Python 3 (ipykernel)",
   "language": "python",
   "name": "python3"
  },
  "language_info": {
   "codemirror_mode": {
    "name": "ipython",
    "version": 3
   },
   "file_extension": ".py",
   "mimetype": "text/x-python",
   "name": "python",
   "nbconvert_exporter": "python",
   "pygments_lexer": "ipython3",
   "version": "3.9.7"
  }
 },
 "nbformat": 4,
 "nbformat_minor": 5
}
