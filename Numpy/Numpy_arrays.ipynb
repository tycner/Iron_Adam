{
 "cells": [
  {
   "cell_type": "code",
   "execution_count": 1,
   "id": "1d814920",
   "metadata": {},
   "outputs": [],
   "source": [
    "#### 1. Import the numpy package under the name `np` (★☆☆)\n",
    "\n",
    "import numpy as np"
   ]
  },
  {
   "cell_type": "code",
   "execution_count": 2,
   "id": "ab6fbbd6",
   "metadata": {},
   "outputs": [
    {
     "name": "stdout",
     "output_type": "stream",
     "text": [
      "[0. 0. 0. 0. 0. 0. 0. 0. 0. 0.]\n"
     ]
    },
    {
     "data": {
      "text/plain": [
       "numpy.ndarray"
      ]
     },
     "execution_count": 2,
     "metadata": {},
     "output_type": "execute_result"
    }
   ],
   "source": [
    "#### 2. Create a null vector of size 10 (★☆☆)\n",
    "\n",
    "a = np.zeros(10)\n",
    "print(a)\n",
    "type(a)"
   ]
  },
  {
   "cell_type": "code",
   "execution_count": 3,
   "id": "e0c5e69e",
   "metadata": {},
   "outputs": [
    {
     "name": "stdout",
     "output_type": "stream",
     "text": [
      "[0. 0. 0. 0. 1. 0. 0. 0. 0. 0.]\n"
     ]
    }
   ],
   "source": [
    "#### 3. Create a null vector of size 10 but the fifth value which is 1 (★☆☆)\n",
    "b = np.zeros(10)\n",
    "b[4] = 1\n",
    "print(b)"
   ]
  },
  {
   "cell_type": "code",
   "execution_count": 4,
   "id": "86f8c055",
   "metadata": {},
   "outputs": [
    {
     "name": "stdout",
     "output_type": "stream",
     "text": [
      "[10 11 12 13 14 15 16 17 18 19 20 21 22 23 24 25 26 27 28 29 30 31 32 33\n",
      " 34 35 36 37 38 39 40 41 42 43 44 45 46 47 48 49]\n"
     ]
    }
   ],
   "source": [
    "#### 4. Create a vector with values ranging from 10 to 49 (★☆☆)\n",
    "\n",
    "c = np.arange(10,50)\n",
    "print(c)"
   ]
  },
  {
   "cell_type": "code",
   "execution_count": 5,
   "id": "fda0c488",
   "metadata": {},
   "outputs": [
    {
     "name": "stdout",
     "output_type": "stream",
     "text": [
      "[[0 1 2]\n",
      " [3 4 5]\n",
      " [6 7 8]]\n"
     ]
    }
   ],
   "source": [
    "#### 5. Create a 3x3 matrix with values ranging from 0 to 8 (★☆☆)\n",
    "\n",
    "d = np.arange(0,9)\n",
    "d = d.reshape(3,3)\n",
    "\n",
    "print(d)"
   ]
  },
  {
   "cell_type": "code",
   "execution_count": 6,
   "id": "756dff59",
   "metadata": {},
   "outputs": [
    {
     "name": "stdout",
     "output_type": "stream",
     "text": [
      "(array([0, 1, 4], dtype=int64),)\n"
     ]
    }
   ],
   "source": [
    "#### 6. Find indices of non-zero elements from [1,2,0,0,4,0] (★☆☆)\n",
    "\n",
    "e = [1,2,0,0,4,0]\n",
    "\n",
    "# Converting list to np.array\n",
    "\n",
    "e = np.asarray(e)\n",
    "\n",
    "# Finding non-zero elements\n",
    "\n",
    "print(np.nonzero(e))"
   ]
  },
  {
   "cell_type": "code",
   "execution_count": 7,
   "id": "be804eb7",
   "metadata": {},
   "outputs": [
    {
     "name": "stdout",
     "output_type": "stream",
     "text": [
      "[[1. 0. 0.]\n",
      " [0. 1. 0.]\n",
      " [0. 0. 1.]]\n"
     ]
    }
   ],
   "source": [
    "#### 7. Create a 3x3 identity matrix (★☆☆)\n",
    "\n",
    "f = np.eye(3,3)\n",
    "print(f)"
   ]
  },
  {
   "cell_type": "code",
   "execution_count": 8,
   "id": "7fcee249",
   "metadata": {},
   "outputs": [
    {
     "name": "stdout",
     "output_type": "stream",
     "text": [
      "[[[0.21633063 0.43679131 0.13847512]\n",
      "  [0.43572257 0.29751649 0.66156836]\n",
      "  [0.71923447 0.02181315 0.76768176]]\n",
      "\n",
      " [[0.74481254 0.58641101 0.79724072]\n",
      "  [0.16587474 0.25265758 0.34359285]\n",
      "  [0.05859903 0.6993847  0.12088216]]\n",
      "\n",
      " [[0.61240317 0.45184354 0.24286745]\n",
      "  [0.41162006 0.23729803 0.2294232 ]\n",
      "  [0.82578844 0.22998635 0.55719955]]]\n"
     ]
    }
   ],
   "source": [
    "#### 8. Create a 3x3x3 array with random values (★☆☆)\n",
    "\n",
    "g = np.random.random((3,3,3))\n",
    "\n",
    "print(g)"
   ]
  },
  {
   "cell_type": "code",
   "execution_count": 9,
   "id": "92405b70",
   "metadata": {},
   "outputs": [
    {
     "name": "stdout",
     "output_type": "stream",
     "text": [
      "[[0.77318436 0.17447015 0.84745818 0.25472251 0.46421599 0.76066701\n",
      "  0.75515084 0.13324024 0.49562387 0.21108069]\n",
      " [0.39909866 0.54088275 0.03759774 0.10907953 0.80705982 0.78152692\n",
      "  0.7279892  0.54257863 0.51586343 0.65607209]\n",
      " [0.92004786 0.11336296 0.72960124 0.00938841 0.08223442 0.75372867\n",
      "  0.40738945 0.57467769 0.48636055 0.29849992]\n",
      " [0.40114322 0.1033627  0.20323417 0.6765851  0.89631229 0.35894017\n",
      "  0.92025309 0.28888639 0.69153669 0.90794344]\n",
      " [0.59681223 0.73685658 0.13177076 0.3580774  0.95063    0.98184371\n",
      "  0.36591552 0.58885832 0.71620865 0.33016495]\n",
      " [0.01263898 0.88883439 0.75826785 0.22607105 0.61793999 0.52772682\n",
      "  0.5913431  0.95949129 0.6116885  0.7099117 ]\n",
      " [0.03001202 0.32656461 0.52391163 0.24206887 0.65692095 0.11041367\n",
      "  0.44479784 0.47686033 0.15846208 0.37516533]\n",
      " [0.47838747 0.83122219 0.27456613 0.67579522 0.52497464 0.7833782\n",
      "  0.44058433 0.81217708 0.20739827 0.90536119]\n",
      " [0.96966779 0.52006297 0.10240584 0.7138811  0.27050413 0.83238211\n",
      "  0.45222094 0.90522391 0.35924604 0.5434946 ]\n",
      " [0.26539724 0.11724143 0.83601332 0.41515732 0.4433772  0.898072\n",
      "  0.14087828 0.50207923 0.28835878 0.85494085]]\n",
      "0.00938840883947456\n",
      "0.9818437083519201\n"
     ]
    }
   ],
   "source": [
    "#### 9. Create a 10x10 array with random values and find the minimum and maximum values (★☆☆)\n",
    "\n",
    "h = np.random.random((10,10))\n",
    "\n",
    "hmin = h.min()\n",
    "hmax = h.max()\n",
    "\n",
    "print(h)\n",
    "print(hmin)\n",
    "print(hmax)"
   ]
  },
  {
   "cell_type": "code",
   "execution_count": 10,
   "id": "8ee99dee",
   "metadata": {},
   "outputs": [
    {
     "name": "stdout",
     "output_type": "stream",
     "text": [
      "[0.88923987 0.80183567 0.73941557 0.46873216 0.40742813 0.23977314\n",
      " 0.61527448 0.47073128 0.79074855 0.36060937 0.80961088 0.81372521\n",
      " 0.43062897 0.14438727 0.71796807 0.90833204 0.33641347 0.42382268\n",
      " 0.33105105 0.30625505 0.06110716 0.76383224 0.41257459 0.64857315\n",
      " 0.52096928 0.53143154 0.76565513 0.90134423 0.77205678 0.76950882]\n",
      "0.5717678605399145\n"
     ]
    }
   ],
   "source": [
    "#### 10. Create a random vector of size 30 and find the mean value (★☆☆)\n",
    "\n",
    "i = np.random.random(30)\n",
    "\n",
    "print(i)\n",
    "\n",
    "print(np.mean(i))"
   ]
  },
  {
   "cell_type": "code",
   "execution_count": 11,
   "id": "b143560a",
   "metadata": {},
   "outputs": [
    {
     "name": "stdout",
     "output_type": "stream",
     "text": [
      "[[0 0 0 0 0]\n",
      " [1 0 0 0 0]\n",
      " [0 2 0 0 0]\n",
      " [0 0 3 0 0]\n",
      " [0 0 0 4 0]]\n"
     ]
    }
   ],
   "source": [
    "#### 11. Create a 5x5 matrix with values 1,2,3,4 just below the diagonal (★☆☆)\n",
    "\n",
    "j = np.diag([1,2,3,4], k=-1)\n",
    "print(j)"
   ]
  },
  {
   "cell_type": "code",
   "execution_count": 12,
   "id": "52f93b95",
   "metadata": {},
   "outputs": [
    {
     "name": "stdout",
     "output_type": "stream",
     "text": [
      "[[0.81835894 0.57027765 0.70755326 0.15392046 0.89472197]\n",
      " [0.68511513 0.39496816 0.67541931 0.4842514  0.10792134]\n",
      " [0.         0.09957656 0.4445573  0.64053272 0.51019107]\n",
      " [0.65068888 1.         0.16448515 0.7573742  0.24147964]\n",
      " [0.20476786 0.15360488 0.5947797  0.25976018 0.81493516]]\n"
     ]
    }
   ],
   "source": [
    "#### 12. Normalize a 5x5 random matrix (★☆☆)\n",
    "\n",
    "k_before_normalization = np.random.random((5,5))\n",
    "kmax = k_before_normalization.max()\n",
    "kmin = k_before_normalization.min()\n",
    "k_after_normalization = (k_before_normalization - kmin)/(kmax - kmin)\n",
    "\n",
    "print(k_after_normalization)"
   ]
  },
  {
   "cell_type": "code",
   "execution_count": 13,
   "id": "148ca098",
   "metadata": {},
   "outputs": [
    {
     "name": "stdout",
     "output_type": "stream",
     "text": [
      "[5 6 7 8 9]\n"
     ]
    }
   ],
   "source": [
    "### 13. How to find common values between two arrays? (★☆☆)\n",
    "\n",
    "array1 = np.arange(0,10)\n",
    "array2 = np.arange(5,16)\n",
    "\n",
    "intersection = np.intersect1d(array1, array2)\n",
    "\n",
    "print(intersection)"
   ]
  },
  {
   "cell_type": "code",
   "execution_count": 14,
   "id": "9586d726",
   "metadata": {},
   "outputs": [
    {
     "name": "stdout",
     "output_type": "stream",
     "text": [
      "[0.47331371 0.40145012 0.06363884 0.02039212 0.43171989 0.71444902\n",
      " 0.2815128  0.12938644 0.40796033 0.32536315]\n",
      "[0.02039212 0.06363884 0.12938644 0.2815128  0.32536315 0.40145012\n",
      " 0.40796033 0.43171989 0.47331371 0.71444902]\n"
     ]
    }
   ],
   "source": [
    "#### 14. Create a random vector of size 10 and sort it (★★☆)\n",
    "\n",
    "random_vector = np.random.random(10)\n",
    "print(random_vector)\n",
    "\n",
    "sorted_random_vector = np.sort(random_vector)\n",
    "print(sorted_random_vector)"
   ]
  },
  {
   "cell_type": "code",
   "execution_count": 15,
   "id": "be4df4e4",
   "metadata": {},
   "outputs": [
    {
     "name": "stdout",
     "output_type": "stream",
     "text": [
      "[0.73512918 0.46063876 0.623844   0.63178202 0.61251308 0.55769024\n",
      " 0.79722327 0.39063226 0.74899595 0.70815734]\n",
      "[0.73512918 0.46063876 0.623844   0.63178202 0.61251308 0.55769024\n",
      " 0.         0.39063226 0.74899595 0.70815734]\n"
     ]
    }
   ],
   "source": [
    "#### 15. Create random vector of size 10 and replace the maximum value by 0 (★★☆)\n",
    "\n",
    "l = np.random.random(10)\n",
    "print(l)\n",
    "\n",
    "# Finding the indices of the maximum value and replacing it by 0\n",
    "\n",
    "l[l.argmax()] = 0\n",
    "print(l)"
   ]
  },
  {
   "cell_type": "code",
   "execution_count": 16,
   "id": "240a87a9",
   "metadata": {},
   "outputs": [
    {
     "name": "stdout",
     "output_type": "stream",
     "text": [
      "[[ 3  4  5]\n",
      " [ 6  7  8]\n",
      " [ 9 10 11]]\n",
      "[[-1.  0.  1.]\n",
      " [-1.  0.  1.]\n",
      " [-1.  0.  1.]]\n"
     ]
    }
   ],
   "source": [
    "#### 16. Subtract the mean of each row of a matrix (★★☆)\n",
    "\n",
    "m = np.arange(3,12)\n",
    "m = m.reshape(3,3)\n",
    "print(m)\n",
    "\n",
    "n = m - m.mean(axis=1, keepdims = True)\n",
    "\n",
    "print(n)\n"
   ]
  },
  {
   "cell_type": "code",
   "execution_count": 17,
   "id": "a816c3e9",
   "metadata": {},
   "outputs": [
    {
     "name": "stdout",
     "output_type": "stream",
     "text": [
      "[ 0  1  2  3  4  5  6  7  8  9 10 11 12 13 14 15 16 17 18 19]\n",
      "[15  0  3 19 12 17 10  1  7 13  9  2  8  4  5 16  6 11 14 18]\n",
      "[19 18 17 16 15]\n"
     ]
    }
   ],
   "source": [
    "#### 17. How to get the n largest values of an array (★★★)\n",
    "\n",
    "Z = np.arange(20)\n",
    "print(Z)\n",
    "\n",
    "# Shuffling the content of the array\n",
    "\n",
    "np.random.shuffle(Z)\n",
    "print(Z)\n",
    "\n",
    "# Finding num largest values of the array; indices is an array od indexes of the largest values\n",
    "\n",
    "num = 5\n",
    "indices = (-Z).argsort()[:num]\n",
    "\n",
    "# Printing the n largest values of the array (the values with indices from the array indices)\n",
    "\n",
    "print(Z[indices])"
   ]
  },
  {
   "cell_type": "code",
   "execution_count": 18,
   "id": "a89a803e",
   "metadata": {},
   "outputs": [
    {
     "name": "stdout",
     "output_type": "stream",
     "text": [
      "[[3. 8. 6.]\n",
      " [5. 5. 5.]\n",
      " [7. 7. 2.]\n",
      " [4. 3. 8.]\n",
      " [7. 7. 0.]]\n",
      "[[ 3. 64. 36.]\n",
      " [25. 25. 25.]\n",
      " [49. 49.  2.]\n",
      " [ 4.  3. 64.]\n",
      " [49. 49.  0.]]\n"
     ]
    }
   ],
   "source": [
    "#### 18. Create a random 5*3 matrix and replace items that are larger than 4 by their squares ( Example:  6 --> 36) \n",
    "\n",
    "o = np.random.random((5,3))\n",
    "\n",
    "# Multiplying by 10 so the elements are not below 1 and rounding them to integers\n",
    "\n",
    "o = o*10\n",
    "o = np.round(o, decimals=0)\n",
    "\n",
    "print(o)\n",
    "\n",
    "# Finding elements bigger than 4 (np.where(conditon, return if condition is true, return if codition is false))\n",
    "\n",
    "p = np.where(o>4, o**2, o)\n",
    "print(p)"
   ]
  }
 ],
 "metadata": {
  "kernelspec": {
   "display_name": "Python 3 (ipykernel)",
   "language": "python",
   "name": "python3"
  },
  "language_info": {
   "codemirror_mode": {
    "name": "ipython",
    "version": 3
   },
   "file_extension": ".py",
   "mimetype": "text/x-python",
   "name": "python",
   "nbconvert_exporter": "python",
   "pygments_lexer": "ipython3",
   "version": "3.9.7"
  }
 },
 "nbformat": 4,
 "nbformat_minor": 5
}
